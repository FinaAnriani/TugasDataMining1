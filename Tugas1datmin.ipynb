{
  "nbformat": 4,
  "nbformat_minor": 0,
  "metadata": {
    "colab": {
      "provenance": [],
      "authorship_tag": "ABX9TyMxME+PL4/0pNMVRh612zk2",
      "include_colab_link": true
    },
    "kernelspec": {
      "name": "python3",
      "display_name": "Python 3"
    },
    "language_info": {
      "name": "python"
    }
  },
  "cells": [
    {
      "cell_type": "markdown",
      "metadata": {
        "id": "view-in-github",
        "colab_type": "text"
      },
      "source": [
        "<a href=\"https://colab.research.google.com/github/FinaAnriani/TugasDataMining1/blob/main/Tugas1datmin.ipynb\" target=\"_parent\"><img src=\"https://colab.research.google.com/assets/colab-badge.svg\" alt=\"Open In Colab\"/></a>"
      ]
    },
    {
      "cell_type": "markdown",
      "source": [
        "# TugasDataMining1\n",
        "--------------------------------------------------------------------------------------------------------------------------------------------------------------------------------------------------------------------------------------\n",
        "\n",
        "## Business Understanding: Faktor-Faktor yang Mempengaruhi Seseorang untuk Berbelanja di Online Store\n",
        "\n",
        "---------------------------------------------------------------------------------------------------------------------------------------------------------------------------------------------------------------------------------------\n",
        "\n",
        "Tujuan Bisnis (Business Objective):\n",
        "\n",
        "Tujuan bisnis dari dataset ini adalah untuk memahami faktor-faktor yang mempengaruhi seseorang untuk berbelanja di online store.\n",
        "\n",
        "---------------------------------------------------------------------------------------------------------------------------------------------------------------------------------------------------------------------------------------\n",
        "\n",
        "Analisis Situasi (Asses Situation):\n",
        "\n",
        "• Pertumbuhan e-commerce yang pesat.\n",
        "\n",
        "• Kebutuhan untuk memahami perilaku konsumen online.\n",
        "\n",
        "---------------------------------------------------------------------------------------------------------------------------------------------------------------------------------------------------------------------------------------\n",
        "\n",
        "Tujuan Data Mining (Data Mining Goals):\n",
        "\n",
        "• Mengidentifikasi faktor-faktor yang mempengaruhi seseorang untuk berbelanja di online store.\n",
        "\n",
        "• Membangun model prediktif untuk memprediksi kemungkinan pembelian di online store.\n",
        "\n",
        "---------------------------------------------------------------------------------------------------------------------------------------------------------------------------------------------------------------------------------------\n",
        "\n",
        "Rencana Proyek (Project Plan):\n",
        "\n",
        "Rencana proyek dimulai dengan mengumpulkan data dari berbagai sumber, seperti website online store, database pelanggan, dan survei online. Kemudian data dibersihkan, ditangani missing values nya, dan dilakukan transformasi data. Setelah itu data dianalisis untuk memahami pola dan tren. Lalu dibangun model prediktif menggunakan algoritma data mining yang sesuai. Terakhir, data dievaluasi kinerja model nya dan dipastikan lagi bahwa model sudah baik."
      ],
      "metadata": {
        "id": "IAvLjVrvZ0XM"
      }
    }
  ]
}