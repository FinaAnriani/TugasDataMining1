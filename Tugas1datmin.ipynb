{
  "nbformat": 4,
  "nbformat_minor": 0,
  "metadata": {
    "colab": {
      "provenance": [],
      "authorship_tag": "ABX9TyPKtm5yqiqSOY1uc7sokz2w",
      "include_colab_link": true
    },
    "kernelspec": {
      "name": "python3",
      "display_name": "Python 3"
    },
    "language_info": {
      "name": "python"
    }
  },
  "cells": [
    {
      "cell_type": "markdown",
      "metadata": {
        "id": "view-in-github",
        "colab_type": "text"
      },
      "source": [
        "<a href=\"https://colab.research.google.com/github/FinaAnriani/TugasDataMining1/blob/main/Tugas1datmin.ipynb\" target=\"_parent\"><img src=\"https://colab.research.google.com/assets/colab-badge.svg\" alt=\"Open In Colab\"/></a>"
      ]
    },
    {
      "cell_type": "markdown",
      "source": [
        "# TugasDataMining1\n",
        "--------------------------------------------------------------------------------------------------------------------------------------------------------------------------------------------------------------------------------------\n",
        "\n",
        "# Business Understanding: Faktor-Faktor yang Mempengaruhi Seseorang untuk Berbelanja di Online Store\n",
        "\n",
        "---------------------------------------------------------------------------------------------------------------------------------------------------------------------------------------------------------------------------------------\n",
        "\n",
        "Tujuan Bisnis:\n",
        "\n",
        "•\tMemahami faktor-faktor yang mempengaruhi seseorang untuk berbelanja di online store.\n",
        "\n",
        "•\tMeningkatkan tingkat konversi pembelian di online store.\n",
        "\n",
        "•\tMengoptimalkan strategi marketing online store.\n",
        "\n",
        "---------------------------------------------------------------------------------------------------------------------------------------------------------------------------------------------------------------------------------------\n",
        "\n",
        "Pertanyaan Bisnis:\n",
        "\n",
        "•\tApa faktor demografis (usia, jenis kelamin, lokasi) yang mempengaruhi pembelian di online store?\n",
        "\n",
        "\n",
        "•\tBagaimana strategi marketing online store dapat dioptimalkan berdasarkan faktor-faktor tersebut?\n",
        "\n",
        "---------------------------------------------------------------------------------------------------------------------------------------------------------------------------------------------------------------------------------------\n",
        "\n",
        "Analisis Situasi:\n",
        "\n",
        "•\tPertumbuhan e-commerce yang pesat.\n",
        "\n",
        "•\tPersaingan yang ketat di industri e-commerce.\n",
        "\n",
        "•\tKebutuhan untuk memahami perilaku konsumen online.\n",
        "\n",
        "---------------------------------------------------------------------------------------------------------------------------------------------------------------------------------------------------------------------------------------\n",
        "\n",
        "Data Mining Goals:\n",
        "\n",
        "•\tMengidentifikasi faktor-faktor yang mempengaruhi seseorang untuk berbelanja di online store.\n",
        "\n",
        "•\tMembangun model prediktif untuk memprediksi kemungkinan pembelian di online store.\n",
        "\n",
        "•\tMemberikan rekomendasi untuk optimasi strategi marketing online store.\n",
        "\n",
        "---------------------------------------------------------------------------------------------------------------------------------------------------------------------------------------------------------------------------------------\n",
        "\n",
        "Project Plan:\n",
        "\n",
        "1.\tData Collection: Mengumpulkan data dari berbagai sumber, seperti website online store, database pelanggan, dan survei online.\n",
        "   \n",
        "2.\tData Preparation: Membersihkan data, menangani missing values, dan melakukan transformasi data.\n",
        "   \n",
        "3.\tData Exploration: Menganalisis data untuk memahami pola dan tren.\n",
        "   \n",
        "4.\tModel Building: Membangun model prediktif menggunakan algoritma data mining yang sesuai.\n",
        "   \n",
        "5.\tModel Evaluation: Mengevaluasi kinerja model dan memastikan model tidak mengalami overfitting.\n",
        "    \n",
        "6.\tDeployment: Menerapkan model pada data baru untuk memprediksi kemungkinan pembelian.\n",
        "    \n",
        "7.\tCommunication: Mengkomunikasikan hasil analisis dan rekomendasi kepada pemangku kepentingan.\n",
        "\n",
        "---------------------------------------------------------------------------------------------------------------------------------------------------------------------------------------------------------------------------------------\n",
        "   \n",
        "Pemangku Kepentingan:\n",
        "\n",
        "•\tTim Marketing: Bertanggung jawab untuk strategi marketing dan promosi online store.\n",
        "\n",
        "•\tTim Produk: Bertanggung jawab untuk pengembangan produk dan penawaran online store.\n",
        "\n",
        "•\tTim Operasional: Bertanggung jawab untuk pengelolaan website dan infrastruktur online store.\n",
        "\n",
        "---------------------------------------------------------------------------------------------------------------------------------------------------------------------------------------------------------------------------------------\n",
        "\n",
        "Kriteria Keberhasilan:\n",
        "\n",
        "•\tMeningkatkan tingkat konversi pembelian di online store.\n",
        "\n",
        "•\tMeningkatkan kepuasan pelanggan online store.\n"
      ],
      "metadata": {
        "id": "IAvLjVrvZ0XM"
      }
    }
  ]
}